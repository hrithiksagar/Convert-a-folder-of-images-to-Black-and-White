{
 "cells": [
  {
   "cell_type": "code",
   "execution_count": 11,
   "metadata": {},
   "outputs": [],
   "source": [
    "import os, glob, cv2\n",
    "from PIL import Image\n",
    "from os import makedirs\n",
    "from os import mkdir\n",
    "from PIL import Image\n",
    "from time import sleep"
   ]
  },
  {
   "cell_type": "markdown",
   "metadata": {},
   "source": [
    "1st method"
   ]
  },
  {
   "cell_type": "code",
   "execution_count": 9,
   "metadata": {},
   "outputs": [],
   "source": [
    "#CONVERT TO GRAYSCALE\n",
    "from os import mkdir\n",
    "def grayscale(path):\n",
    "    print(\"Converting to Grayscale\")\n",
    "    # creating a new folder to save converted images\n",
    "    try:\n",
    "        mkdir('rough/gray_scale/')\n",
    "    except:\n",
    "        print (\"LeafBlast Directory already exist, images will be written in same folder\")\n",
    "       \n",
    "    # listing all the files in the directory \n",
    "    list_of_images_in_folder =  [os.path.join(path,f) for f in os.listdir(path) if f.endswith('.jpg')]\n",
    "    print (list_of_images_in_folder)\n",
    "    \n",
    "    new_image_fill_name = 0\n",
    "    for image in list_of_images_in_folder:\n",
    "        # Opens a image in RGB mode\n",
    "        original_im = Image.open(image)\n",
    "        # # Resize the image\n",
    "        # newsize = (300, 300)\n",
    "        # #newsize = (width_new, height_new)\n",
    "        # final_image = original_im.resize(newsize)\n",
    "        \n",
    "        gray = original_im.convert('LA')\n",
    "        \n",
    "        #extract the filename from the image list\n",
    "        extract_filename = image\n",
    "        start = extract_filename.find(\"resize/\")\n",
    "        finish = extract_filename.find(\".jpg\")\n",
    "        final_filename = extract_filename[start+7:finish]\n",
    "        #print (final_filename) #for testing  \n",
    "        #sleep (15)\n",
    "        # Saves the new image\n",
    "        '''change the file names!'''\n",
    "\n",
    "        gray.save(\"rough/gray_scale/new_resized\" + final_filename + \".png\")\n",
    "        \n",
    "        #new_image_fill_name =+ 1\n",
    "    "
   ]
  },
  {
   "cell_type": "code",
   "execution_count": 10,
   "metadata": {},
   "outputs": [
    {
     "name": "stdout",
     "output_type": "stream",
     "text": [
      "LeafBlast Directory already exist, images will be written in same folder\n",
      "['rough/8.jpg', 'rough/4.jpg', 'rough/5.jpg', 'rough/7.jpg', 'rough/6.jpg', 'rough/3.jpg']\n",
      "All images have been converted to Grayscale\n"
     ]
    }
   ],
   "source": [
    "path = glob.glob('rough/1/*.jpg')\n",
    "#outputpath = rough/gray_2/\n",
    "grayscale(path)\n",
    "print(\"Done\")"
   ]
  },
  {
   "cell_type": "markdown",
   "metadata": {},
   "source": [
    "2nd method"
   ]
  },
  {
   "cell_type": "code",
   "execution_count": 1,
   "metadata": {},
   "outputs": [
    {
     "ename": "FileNotFoundError",
     "evalue": "[Errno 2] No such file or directory: 'gatto//'",
     "output_type": "error",
     "traceback": [
      "\u001b[0;31m---------------------------------------------------------------------------\u001b[0m",
      "\u001b[0;31mFileNotFoundError\u001b[0m                         Traceback (most recent call last)",
      "\u001b[1;32m/Users/hrithiksagar/Downloads/Tech.at.core/GitHub/Plant-Disease-Detection-for-Aerial-Vehicle-Tech.at.core/testing diff functions for grayscale.ipynb Cell 6\u001b[0m in \u001b[0;36m<cell line: 5>\u001b[0;34m()\u001b[0m\n\u001b[1;32m      <a href='vscode-notebook-cell:/Users/hrithiksagar/Downloads/Tech.at.core/GitHub/Plant-Disease-Detection-for-Aerial-Vehicle-Tech.at.core/testing%20diff%20functions%20for%20grayscale.ipynb#ch0000005?line=1'>2</a>\u001b[0m \u001b[39mimport\u001b[39;00m \u001b[39mos\u001b[39;00m\n\u001b[1;32m      <a href='vscode-notebook-cell:/Users/hrithiksagar/Downloads/Tech.at.core/GitHub/Plant-Disease-Detection-for-Aerial-Vehicle-Tech.at.core/testing%20diff%20functions%20for%20grayscale.ipynb#ch0000005?line=3'>4</a>\u001b[0m path \u001b[39m=\u001b[39m (\u001b[39m'\u001b[39m\u001b[39mgatto//\u001b[39m\u001b[39m'\u001b[39m)\n\u001b[0;32m----> <a href='vscode-notebook-cell:/Users/hrithiksagar/Downloads/Tech.at.core/GitHub/Plant-Disease-Detection-for-Aerial-Vehicle-Tech.at.core/testing%20diff%20functions%20for%20grayscale.ipynb#ch0000005?line=4'>5</a>\u001b[0m dirs \u001b[39m=\u001b[39m os\u001b[39m.\u001b[39;49mlistdir( path )\n\u001b[1;32m      <a href='vscode-notebook-cell:/Users/hrithiksagar/Downloads/Tech.at.core/GitHub/Plant-Disease-Detection-for-Aerial-Vehicle-Tech.at.core/testing%20diff%20functions%20for%20grayscale.ipynb#ch0000005?line=6'>7</a>\u001b[0m \u001b[39mdef\u001b[39;00m \u001b[39mgrey\u001b[39m():\n\u001b[1;32m      <a href='vscode-notebook-cell:/Users/hrithiksagar/Downloads/Tech.at.core/GitHub/Plant-Disease-Detection-for-Aerial-Vehicle-Tech.at.core/testing%20diff%20functions%20for%20grayscale.ipynb#ch0000005?line=7'>8</a>\u001b[0m     \u001b[39mfor\u001b[39;00m item \u001b[39min\u001b[39;00m dirs:\n",
      "\u001b[0;31mFileNotFoundError\u001b[0m: [Errno 2] No such file or directory: 'gatto//'"
     ]
    }
   ],
   "source": [
    "from PIL import Image \n",
    "import os\n",
    "\n",
    "path = ('gatto//')\n",
    "dirs = os.listdir( path )\n",
    "\n",
    "def grey():\n",
    "    for item in dirs:\n",
    "        if os.path.isfile(path+item):\n",
    "            im = Image.open(path+item)\n",
    "            f, e = os.path.splitext(path+item)\n",
    "            imConv = im.convert('1') \n",
    "            imConv.save(f + 'result.jpg','JPEG', quality = 100)\n",
    "            \n",
    "grey()"
   ]
  },
  {
   "cell_type": "markdown",
   "metadata": {},
   "source": [
    "Making 2nd method as working function!"
   ]
  },
  {
   "cell_type": "code",
   "execution_count": null,
   "metadata": {},
   "outputs": [],
   "source": []
  }
 ],
 "metadata": {
  "kernelspec": {
   "display_name": "Python 3.8.13 ('plants')",
   "language": "python",
   "name": "python3"
  },
  "language_info": {
   "codemirror_mode": {
    "name": "ipython",
    "version": 3
   },
   "file_extension": ".py",
   "mimetype": "text/x-python",
   "name": "python",
   "nbconvert_exporter": "python",
   "pygments_lexer": "ipython3",
   "version": "3.8.13"
  },
  "orig_nbformat": 4,
  "vscode": {
   "interpreter": {
    "hash": "1ed8360d802eaa25f367b41b53553acfaebc9d2628bb0e4f3b0c25ebd58bef49"
   }
  }
 },
 "nbformat": 4,
 "nbformat_minor": 2
}
