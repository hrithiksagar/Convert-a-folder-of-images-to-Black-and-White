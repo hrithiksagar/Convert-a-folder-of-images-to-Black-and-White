{
 "cells": [
  {
   "cell_type": "code",
   "execution_count": 2,
   "metadata": {},
   "outputs": [],
   "source": [
    "import os, glob, cv2\n",
    "from PIL import Image\n",
    "from os import makedirs"
   ]
  },
  {
   "cell_type": "code",
   "execution_count": 3,
   "metadata": {},
   "outputs": [],
   "source": [
    "# version 0 code to convert images in a folder to grayscale \n",
    "# this code for BrownSpot\n",
    "path = glob.glob('datasets_V0/test/BrownSpot/*.jpg')\n",
    "\n",
    "# creating a new folder to store the grayscale images\n",
    "try:\n",
    "    makedirs('datasets_V0/test_grey/BrownSpot/')\n",
    "# if the folder already exists, it will not create a new folder\n",
    "except:\n",
    "    print (\"Directory already exist, images will be written in same folder\")\n",
    "    \n",
    "i = 0\n",
    "for image in path:\n",
    "    img = cv2.imread(image)\n",
    "    gray_images = cv2.cvtColor(img, cv2.COLOR_BGR2GRAY)\n",
    "    #cv2.imshow('Gray Images', gray_images)\n",
    "    cv2.imwrite(\"datasets_V0/test_grey/BrownSpot/image%02i.jpg\" %i, gray_images)\n",
    "    i += 1\n",
    "    cv2.waitKey(500)\n",
    "    cv2.destroyAllWindows()\n",
    "    \n",
    "# limitations with this code:\n",
    "# can convert only a folder of images\n",
    "# doesn't work if there are sub-folders in the main folder\n",
    "    "
   ]
  },
  {
   "cell_type": "markdown",
   "metadata": {},
   "source": []
  },
  {
   "cell_type": "code",
   "execution_count": 5,
   "metadata": {},
   "outputs": [],
   "source": [
    "# converting \"Healthy\" images to grayscale\n",
    "\n",
    "images_path = glob.glob('datasets_V0/test/Healthy/*.jpg')\n",
    "\n",
    "# creating a new folder to store the grayscale images\n",
    "try:\n",
    "    makedirs('datasets_V0/test_grey/Healthy/')\n",
    "# if the folder already exists, it will not create a new folder\n",
    "except:\n",
    "    print (\"Directory already exist, images will be written in same folder\")\n",
    "    \n",
    "i = 0\n",
    "for image in images_path:\n",
    "    img = cv2.imread(image)\n",
    "    gray_images = cv2.cvtColor(img, cv2.COLOR_BGR2GRAY)\n",
    "    cv2.imshow('Gray Images', gray_images)\n",
    "    cv2.imwrite(\"datasets_V0/test_grey/Healthy/healthyimage%02i.jpg\" %i, gray_images)\n",
    "    i += 1\n",
    "    cv2.waitKey(500)\n",
    "    cv2.destroyAllWindows()"
   ]
  },
  {
   "cell_type": "code",
   "execution_count": 4,
   "metadata": {},
   "outputs": [],
   "source": [
    "# Code for Hispa\n",
    "from os import makedirs\n",
    "images_path = glob.glob('datasets_V0/test/Hispa/*.jpg')\n",
    "\n",
    "# creating a new folder to store the grayscale images\n",
    "try:\n",
    "    makedirs('datasets_V0/test_grey/Hispa/')\n",
    "# if the folder already exists, it will not create a new folder\n",
    "except:\n",
    "    print (\"Directory already exist, images will be written in same folder\")\n",
    "    \n",
    "i = 0\n",
    "for image in images_path:\n",
    "    img = cv2.imread(image)\n",
    "    gray_images = cv2.cvtColor(img, cv2.COLOR_BGR2GRAY)\n",
    "    cv2.imshow('Gray Images', gray_images)\n",
    "    cv2.imwrite(\"datasets_V0/test_grey/Hispa/hispaimage%02i.jpg\" %i, gray_images)\n",
    "    i += 1\n",
    "    cv2.waitKey(500)\n",
    "    cv2.destroyAllWindows()"
   ]
  },
  {
   "cell_type": "code",
   "execution_count": 7,
   "metadata": {},
   "outputs": [
    {
     "name": "stdout",
     "output_type": "stream",
     "text": [
      "LeafBlast Directory already exist, images will be written in same folder\n"
     ]
    }
   ],
   "source": [
    "#code for LEAFBLAST\n",
    "images_path = glob.glob('/Users/hrithiksagar/Downloads/Tech.at.core/GitHub/Datasets_V0_Backup/train/LeafBlast/*.jpg')\n",
    "\n",
    "try:\n",
    "    makedirs('datasets_V0/train_grey/LeafBlast/')\n",
    "except:\n",
    "    print (\"LeafBlast Directory already exist, images will be written in same folder\")\n",
    "# Folder won't used\n",
    "i = 0\n",
    "for image in images_path:\n",
    "    img = cv2.imread(image)\n",
    "    gray_images = cv2.cvtColor(img, cv2.COLOR_BGR2GRAY)\n",
    "    #cv2.imshow('Gray Images', gray_images)\n",
    "    cv2.imwrite(\"datasets_V0/train_grey/LeafBlast/LeafBlastimage%02i.jpg\" %i, gray_images)\n",
    "    i += 1\n",
    "    cv2.waitKey(500)\n",
    "    cv2.destroyAllWindows()"
   ]
  },
  {
   "cell_type": "code",
   "execution_count": null,
   "metadata": {},
   "outputs": [],
   "source": []
  }
 ],
 "metadata": {
  "kernelspec": {
   "display_name": "Python 3.8.13 ('plants')",
   "language": "python",
   "name": "python3"
  },
  "language_info": {
   "codemirror_mode": {
    "name": "ipython",
    "version": 3
   },
   "file_extension": ".py",
   "mimetype": "text/x-python",
   "name": "python",
   "nbconvert_exporter": "python",
   "pygments_lexer": "ipython3",
   "version": "3.8.13"
  },
  "orig_nbformat": 4,
  "vscode": {
   "interpreter": {
    "hash": "1ed8360d802eaa25f367b41b53553acfaebc9d2628bb0e4f3b0c25ebd58bef49"
   }
  }
 },
 "nbformat": 4,
 "nbformat_minor": 2
}
