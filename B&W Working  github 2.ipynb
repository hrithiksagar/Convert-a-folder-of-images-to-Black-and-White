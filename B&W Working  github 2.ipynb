{
 "cells": [
  {
   "cell_type": "code",
   "execution_count": 1,
   "metadata": {},
   "outputs": [],
   "source": [
    "from PIL import Image\n",
    "import glob\n",
    "import os\n",
    "from time import sleep"
   ]
  },
  {
   "cell_type": "code",
   "execution_count": 2,
   "metadata": {},
   "outputs": [],
   "source": [
    "path = \"rough/\""
   ]
  },
  {
   "cell_type": "code",
   "execution_count": 11,
   "metadata": {},
   "outputs": [],
   "source": [
    "# working code for resizing and converitng images to black and white\n",
    "# Pulls in all the image file names from the folder\n",
    "def get_imlist(path):\n",
    "    list_of_images_in_folder =  [os.path.join(path,f) for f in os.listdir(path) if f.endswith('.jpg')]\n",
    "    print (\"...finding images\")\n",
    "    sleep(2)\n",
    "    print (\"\")\n",
    "    sleep(1)\n",
    "    print (\"...found the following images\")\n",
    "    print (\"\")\n",
    "    sleep(1)\n",
    "    print (list_of_images_in_folder)\n",
    "    print (\"\")\n",
    "    # Enter the new size that you want\n",
    "    print (\"Please enter your new sizes in pixels\")\n",
    "    print (\"\")\n",
    "    width_new = int(input(\"Enter that width: \"))\n",
    "    height_new = int(input(\"Enter that height: \"))\n",
    "    new_image_fill_name = 0\n",
    "    for image in list_of_images_in_folder:\n",
    "        # Opens a image in RGB mode\n",
    "        #print (image)\n",
    "        sleep (1)\n",
    "        original_im = Image.open(image)\n",
    "        # Resize the image\n",
    "        newsize = (width_new, height_new)\n",
    "        final_image = original_im.resize(newsize)\n",
    "        #final_image = final_image.convert('LA')\n",
    "        # Shows the image in image viewer\n",
    "        final_image.show() # for testing\n",
    "        #extract the filename from the image list\n",
    "        extract_filename = image\n",
    "        start = extract_filename.find(\"resize/\")\n",
    "        #print (start) for testing\n",
    "        final_filename = extract_filename[start+7:]\n",
    "        print (final_filename) #for testing  \n",
    "        #sleep (5)\n",
    "        # Saves the new image\n",
    "        '''change the file names!'''\n",
    "        final_image.save(\"/home/pi/Python_Resize/new_resized_\" + final_filename)\n",
    "        #new_image_fill_name =+ 1\n"
   ]
  },
  {
   "cell_type": "code",
   "execution_count": 32,
   "metadata": {},
   "outputs": [],
   "source": [
    "#CONVERT TO GRAYSCALE\n",
    "from os import mkdir\n",
    "\n",
    "\n",
    "def get_imlist_gs(path):\n",
    "    # creating a new folder to save converted images\n",
    "    try:\n",
    "        mkdir('rough/gray_scale/')\n",
    "    except:\n",
    "        print (\"LeafBlast Directory already exist, images will be written in same folder\")\n",
    "    list_of_images_in_folder =  [os.path.join(path,f) for f in os.listdir(path) if f.endswith('.jpg')]\n",
    "    print (\"...finding images\")\n",
    "    sleep(1)\n",
    "    sleep(1)\n",
    "    print (\"...found the following images\")\n",
    "    sleep(1)\n",
    "    print (list_of_images_in_folder)\n",
    "    # Enter the new size that you want\n",
    "    #print (\"Please enter your new sizes in pixels\")\n",
    "    #width_new = 300\n",
    "    #height_new = 300\n",
    "    # width_new = int(input(\"Enter that width \"))\n",
    "    # height_new = int(input(\"Enter that height \"))\n",
    "    new_image_fill_name = 0\n",
    "    for image in list_of_images_in_folder:\n",
    "        # Opens a image in RGB mode\n",
    "        #print (image)\n",
    "        #sleep (1)\n",
    "        original_im = Image.open(image)\n",
    "        # Resize the image\n",
    "        newsize = (300, 300)\n",
    "        #newsize = (width_new, height_new)\n",
    "        final_image = original_im.resize(newsize)\n",
    "        final_image = final_image.convert('LA')\n",
    "        # Shows the image in image viewer\n",
    "        #final_image.show() # for testing\n",
    "        #extract the filename from the image list\n",
    "        extract_filename = image\n",
    "        start = extract_filename.find(\"resize/\")\n",
    "        finish = extract_filename.find(\".jpg\")\n",
    "        #print (start) #for testing\n",
    "        #print (finish) #for testing\n",
    "        final_filename = extract_filename[start+7:finish]\n",
    "        #print (final_filename) #for testing  \n",
    "        #sleep (15)\n",
    "        # Saves the new image\n",
    "        '''change the file names!'''\n",
    "\n",
    "        final_image.save(\"rough/gray_scale/new_resized\" + final_filename + \".png\")\n",
    "        \n",
    "        #new_image_fill_name =+ 1"
   ]
  },
  {
   "cell_type": "code",
   "execution_count": 31,
   "metadata": {},
   "outputs": [
    {
     "name": "stdout",
     "output_type": "stream",
     "text": [
      "Welcome to the Image Grayscale converter\n",
      "Ensure that all image are in the Folder before you continue\n",
      "...finding images\n",
      "...found the following images\n",
      "['rough/8.jpg', 'rough/4.jpg', 'rough/5.jpg', 'rough/7.jpg', 'rough/6.jpg', 'rough/3.jpg']\n",
      "All images have been resized\n"
     ]
    }
   ],
   "source": [
    "#MAIN PROGRAM\n",
    "print (\"Welcome to the Image Grayscale converter\")\n",
    "sleep(1)\n",
    "print (\"Ensure that all image are in the Folder before you continue\")\n",
    "sleep(1)\n",
    "get_imlist_gs(path)\n",
    "print (\"All images have been converted to Grayscale\")\n",
    "\n",
    "\n",
    "#grayscale = input(\"Would you like the images to be saved in grayscale? (Y/N) \")\n",
    "# if grayscale.upper() == \"Y\":\n",
    "#     get_imlist_gs(path)\n",
    "#else:    \n",
    "#    get_imlist(path)\n",
    "#print (\"All images have been converted to GrayScale\")\n"
   ]
  },
  {
   "cell_type": "code",
   "execution_count": null,
   "metadata": {},
   "outputs": [],
   "source": []
  }
 ],
 "metadata": {
  "kernelspec": {
   "display_name": "Python 3.8.13 ('plants')",
   "language": "python",
   "name": "python3"
  },
  "language_info": {
   "codemirror_mode": {
    "name": "ipython",
    "version": 3
   },
   "file_extension": ".py",
   "mimetype": "text/x-python",
   "name": "python",
   "nbconvert_exporter": "python",
   "pygments_lexer": "ipython3",
   "version": "3.8.13 | packaged by conda-forge | (default, Mar 25 2022, 06:04:14) \n[Clang 12.0.1 ]"
  },
  "orig_nbformat": 4,
  "vscode": {
   "interpreter": {
    "hash": "1ed8360d802eaa25f367b41b53553acfaebc9d2628bb0e4f3b0c25ebd58bef49"
   }
  }
 },
 "nbformat": 4,
 "nbformat_minor": 2
}
